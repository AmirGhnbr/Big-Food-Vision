{
  "nbformat": 4,
  "nbformat_minor": 0,
  "metadata": {
    "colab": {
      "provenance": [],
      "collapsed_sections": [],
      "authorship_tag": "ABX9TyM2X/ZdhXHytUCcG1gTT/b8",
      "include_colab_link": true
    },
    "kernelspec": {
      "name": "python3",
      "display_name": "Python 3"
    },
    "language_info": {
      "name": "python"
    }
  },
  "cells": [
    {
      "cell_type": "markdown",
      "metadata": {
        "id": "view-in-github",
        "colab_type": "text"
      },
      "source": [
        "<a href=\"https://colab.research.google.com/github/AmirGhnbr/Big-Food-Vision/blob/dev_branch/Big_Food_Vision.ipynb\" target=\"_parent\"><img src=\"https://colab.research.google.com/assets/colab-badge.svg\" alt=\"Open In Colab\"/></a>"
      ]
    },
    {
      "cell_type": "markdown",
      "source": [
        "Alongside attempting to beat the DeepFood paper, we're going to use three two methods to significantly improve the speed of our model training:\n",
        "\n",
        "1. Prefetching\n",
        "2. Mixed precision training\n",
        "3. Using TPUs and large batch size to speed up training trying to replicate [[Ying et el 2018](https://arxiv.org/abs/1811.06992)]"
      ],
      "metadata": {
        "id": "tHCY7x_ui-D7"
      }
    },
    {
      "cell_type": "code",
      "source": [],
      "metadata": {
        "id": "6q524PFVmJ_P"
      },
      "execution_count": null,
      "outputs": []
    }
  ]
}